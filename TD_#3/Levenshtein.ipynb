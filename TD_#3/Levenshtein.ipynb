{
 "cells": [
  {
   "cell_type": "code",
   "execution_count": 1,
   "metadata": {
    "collapsed": true
   },
   "outputs": [],
   "source": [
    "import numpy as np"
   ]
  },
  {
   "cell_type": "code",
   "execution_count": 2,
   "metadata": {
    "collapsed": true
   },
   "outputs": [],
   "source": [
    "s1 = \"amer\"\n",
    "s2 = \"albert\""
   ]
  },
  {
   "cell_type": "code",
   "execution_count": 18,
   "metadata": {},
   "outputs": [],
   "source": [
    "def levenshtein_distance(s1, s2):\n",
    "    \"\"\"\n",
    "    Compute the levenshtein distance between two string given in parameters\n",
    "    Operations: insert (cost 1), delete (cost 1), replace (cost 1)\n",
    "    \n",
    "    Inputs:\n",
    "    -------\n",
    "    s1, s2:      strings\n",
    "                 two strings to compare\n",
    "    Output:\n",
    "    -------\n",
    "    mat[-1, -1]: float64\n",
    "                 levenshtein distance between s1 and s2\n",
    "    \"\"\"\n",
    "    l1 = len(s1)\n",
    "    l2 = len(s2)\n",
    "    mat = np.zeros((l1, l2))\n",
    "    mat[:, 0] = np.arange(l1)\n",
    "    mat[0, :] = np.arange(l2)\n",
    "    for i in range(1, l1):\n",
    "        for j in range(1, l2):\n",
    "            if s1[i] == s2[j]:\n",
    "                mat[i,j] = min(mat[i-1, j] + 1, mat[i, j-1] + 1, mat[i-1, j-1])\n",
    "            else:\n",
    "                mat[i,j] = min(mat[i-1, j] + 1, mat[i, j-1] + 1, mat[i-1, j-1] +1)\n",
    "    return mat[-1, -1]"
   ]
  },
  {
   "cell_type": "code",
   "execution_count": 19,
   "metadata": {
    "collapsed": true
   },
   "outputs": [],
   "source": [
    "res = levenshtein_distance(s1, s2)"
   ]
  },
  {
   "cell_type": "code",
   "execution_count": 20,
   "metadata": {},
   "outputs": [
    {
     "data": {
      "text/plain": [
       "dtype('float64')"
      ]
     },
     "execution_count": 20,
     "metadata": {},
     "output_type": "execute_result"
    }
   ],
   "source": [
    "res.dtype"
   ]
  },
  {
   "cell_type": "code",
   "execution_count": 21,
   "metadata": {},
   "outputs": [
    {
     "data": {
      "text/plain": [
       "7.0"
      ]
     },
     "execution_count": 21,
     "metadata": {},
     "output_type": "execute_result"
    }
   ],
   "source": [
    "levenshtein_distance('adsasfasf', 'dad oas eh')"
   ]
  },
  {
   "cell_type": "markdown",
   "metadata": {},
   "source": [
    "# Levenshtein automaton"
   ]
  },
  {
   "cell_type": "code",
   "execution_count": 25,
   "metadata": {},
   "outputs": [],
   "source": [
    "class LevenshteinAutomaton:\n",
    "    def __init__(self, string, n):\n",
    "        self.string = string\n",
    "        self.max_edits = n\n",
    "\n",
    "    def start(self):\n",
    "        return range(len(self.string)+1)\n",
    "\n",
    "    def step(self, state, c):\n",
    "        new_state = [state[0]+1]\n",
    "        for i in range(len(state)-1):\n",
    "            cost = 0 if self.string[i] == c else 1\n",
    "            new_state.append(min(new_state[i]+1, state[i]+cost, state[i+1]+1))\n",
    "        return [min(x,self.max_edits+1) for x in new_state]\n",
    "\n",
    "    def is_match(self, state):\n",
    "        return state[-1] <= self.max_edits\n",
    "\n",
    "    def can_match(self, state):\n",
    "        return min(state) <= self.max_edits\n",
    "\n",
    "    def transitions(self, state):\n",
    "        return set(c for (i,c) in enumerate(self.string) if state[i] <= self.max_edits)"
   ]
  },
  {
   "cell_type": "code",
   "execution_count": 41,
   "metadata": {},
   "outputs": [
    {
     "data": {
      "text/plain": [
       "0"
      ]
     },
     "execution_count": 41,
     "metadata": {},
     "output_type": "execute_result"
    }
   ],
   "source": [
    "counter = [0] # list is a hack for mutable lexical scoping\n",
    "states = {}\n",
    "transitions = []\n",
    "matching = []\n",
    "\n",
    "lev = LevenshteinAutomaton(\"woof\", 2)\n",
    "\n",
    "def explore(state):\n",
    "    key = tuple(state) # lists can't be hashed in Python so convert to a tuple\n",
    "    if key in states: return states[key]\n",
    "    i = counter[0]\n",
    "    counter[0] += 1\n",
    "    states[key] = i\n",
    "    if lev.is_match(state): matching.append(i)\n",
    "    for c in lev.transitions(state) | set(['*']):\n",
    "        newstate = lev.step(state, c)\n",
    "        j = explore(newstate)\n",
    "        transitions.append((i, j, c))\n",
    "    return i\n",
    "\n",
    "explore(lev.start())"
   ]
  },
  {
   "cell_type": "code",
   "execution_count": null,
   "metadata": {
    "collapsed": true
   },
   "outputs": [],
   "source": []
  },
  {
   "cell_type": "code",
   "execution_count": 37,
   "metadata": {},
   "outputs": [],
   "source": [
    "counter = [0] # list is a hack for mutable lexical scoping\n",
    "states = {}\n",
    "transitions = []\n",
    "matching = []\n",
    "\n",
    "lev = LevenshteinAutomaton(\"woof\", 1)\n"
   ]
  },
  {
   "cell_type": "code",
   "execution_count": 39,
   "metadata": {},
   "outputs": [],
   "source": [
    "start = lev.start()"
   ]
  },
  {
   "cell_type": "code",
   "execution_count": 40,
   "metadata": {},
   "outputs": [
    {
     "data": {
      "text/plain": [
       "(0, 1, 2, 3, 4)"
      ]
     },
     "execution_count": 40,
     "metadata": {},
     "output_type": "execute_result"
    }
   ],
   "source": [
    "tuple(start)"
   ]
  },
  {
   "cell_type": "code",
   "execution_count": 28,
   "metadata": {
    "scrolled": true
   },
   "outputs": [
    {
     "data": {
      "text/plain": [
       "{(0, 1, 2, 3, 4): 0,\n",
       " (1, 0, 1, 2, 2): 7,\n",
       " (1, 1, 1, 2, 2): 15,\n",
       " (1, 1, 2, 2, 2): 1,\n",
       " (2, 1, 0, 1, 2): 10,\n",
       " (2, 1, 1, 2, 2): 8,\n",
       " (2, 1, 2, 2, 2): 3,\n",
       " (2, 2, 1, 0, 1): 11,\n",
       " (2, 2, 1, 1, 1): 14,\n",
       " (2, 2, 1, 1, 2): 9,\n",
       " (2, 2, 1, 2, 2): 4,\n",
       " (2, 2, 2, 1, 0): 13,\n",
       " (2, 2, 2, 1, 1): 12,\n",
       " (2, 2, 2, 1, 2): 5,\n",
       " (2, 2, 2, 2, 1): 6,\n",
       " (2, 2, 2, 2, 2): 2}"
      ]
     },
     "execution_count": 28,
     "metadata": {},
     "output_type": "execute_result"
    }
   ],
   "source": [
    "states"
   ]
  },
  {
   "cell_type": "code",
   "execution_count": 29,
   "metadata": {},
   "outputs": [
    {
     "data": {
      "text/plain": [
       "[(2, 2, '*'),\n",
       " (1, 2, '*'),\n",
       " (3, 2, '*'),\n",
       " (4, 2, '*'),\n",
       " (5, 2, '*'),\n",
       " (6, 2, '*'),\n",
       " (5, 6, 'f'),\n",
       " (4, 5, 'o'),\n",
       " (3, 4, 'o'),\n",
       " (1, 3, 'w'),\n",
       " (1, 4, 'o'),\n",
       " (0, 1, '*'),\n",
       " (8, 2, '*'),\n",
       " (9, 2, '*'),\n",
       " (9, 5, 'o'),\n",
       " (9, 6, 'f'),\n",
       " (8, 9, 'o'),\n",
       " (7, 8, '*'),\n",
       " (7, 8, 'w'),\n",
       " (10, 9, '*'),\n",
       " (12, 2, '*'),\n",
       " (12, 6, 'f'),\n",
       " (11, 12, '*'),\n",
       " (11, 12, 'o'),\n",
       " (13, 6, '*'),\n",
       " (13, 6, 'f'),\n",
       " (11, 13, 'f'),\n",
       " (10, 11, 'o'),\n",
       " (14, 2, '*'),\n",
       " (14, 5, 'o'),\n",
       " (14, 6, 'f'),\n",
       " (10, 14, 'f'),\n",
       " (7, 10, 'o'),\n",
       " (0, 7, 'w'),\n",
       " (15, 2, '*'),\n",
       " (15, 3, 'w'),\n",
       " (15, 9, 'o'),\n",
       " (0, 15, 'o')]"
      ]
     },
     "execution_count": 29,
     "metadata": {},
     "output_type": "execute_result"
    }
   ],
   "source": [
    "transitions"
   ]
  },
  {
   "cell_type": "code",
   "execution_count": 30,
   "metadata": {},
   "outputs": [
    {
     "data": {
      "text/plain": [
       "[6, 11, 12, 13, 14]"
      ]
     },
     "execution_count": 30,
     "metadata": {},
     "output_type": "execute_result"
    }
   ],
   "source": [
    "matching"
   ]
  },
  {
   "cell_type": "code",
   "execution_count": 31,
   "metadata": {},
   "outputs": [
    {
     "data": {
      "text/plain": [
       "[16]"
      ]
     },
     "execution_count": 31,
     "metadata": {},
     "output_type": "execute_result"
    }
   ],
   "source": [
    "counter"
   ]
  },
  {
   "cell_type": "code",
   "execution_count": null,
   "metadata": {
    "collapsed": true
   },
   "outputs": [],
   "source": []
  }
 ],
 "metadata": {
  "kernelspec": {
   "display_name": "context2vec",
   "language": "python",
   "name": "context2vec"
  },
  "language_info": {
   "codemirror_mode": {
    "name": "ipython",
    "version": 2
   },
   "file_extension": ".py",
   "mimetype": "text/x-python",
   "name": "python",
   "nbconvert_exporter": "python",
   "pygments_lexer": "ipython2",
   "version": "2.7.14"
  }
 },
 "nbformat": 4,
 "nbformat_minor": 2
}
